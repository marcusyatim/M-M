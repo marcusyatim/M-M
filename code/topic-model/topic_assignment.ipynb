{
 "cells": [
  {
   "cell_type": "markdown",
   "id": "c4ba90da",
   "metadata": {},
   "source": [
    "# Topic Assignment\n",
    "\n",
    "### After performing topic modeling, to then assign the derived topics to the recipes."
   ]
  },
  {
   "cell_type": "code",
   "execution_count": 1,
   "id": "47f522e1",
   "metadata": {},
   "outputs": [
    {
     "name": "stderr",
     "output_type": "stream",
     "text": [
      "C:\\Users\\marcu\\anaconda3\\envs\\nlp\\lib\\site-packages\\gensim\\utils.py:1212: UserWarning: detected Windows; aliasing chunkize to chunkize_serial\n",
      "  warnings.warn(\"detected Windows; aliasing chunkize to chunkize_serial\")\n"
     ]
    }
   ],
   "source": [
    "import gensim \n",
    "import numpy as np\n",
    "import pandas as pd\n",
    "import pickle "
   ]
  },
  {
   "cell_type": "markdown",
   "id": "d0c44972",
   "metadata": {},
   "source": [
    "### Get the topic distribution for the recipes"
   ]
  },
  {
   "cell_type": "code",
   "execution_count": 2,
   "id": "3ec3ba62",
   "metadata": {},
   "outputs": [],
   "source": [
    "# Load LDA model\n",
    "lda = gensim.models.ldamodel.LdaModel.load('../../data/topic-model/lda/exp4.model')\n",
    "\n",
    "# Load dtm\n",
    "with open('../../data/topic-model/dtm/exp4.pkl', 'rb') as f:\n",
    "    dtm = pickle.load(f)"
   ]
  },
  {
   "cell_type": "code",
   "execution_count": 3,
   "id": "7399ad87",
   "metadata": {
    "scrolled": true
   },
   "outputs": [],
   "source": [
    "# Get the topic distribution of recipes\n",
    "doc_topics = lda.get_document_topics(dtm)"
   ]
  },
  {
   "cell_type": "markdown",
   "id": "b949dc2f",
   "metadata": {},
   "source": [
    "### Assign the topic distribution to each recipe"
   ]
  },
  {
   "cell_type": "code",
   "execution_count": 4,
   "id": "8d7f3981",
   "metadata": {},
   "outputs": [],
   "source": [
    "# Preprocess RAW_recipes.csv (same as in topic_model.ipynb)\n",
    "recipes = pd.read_csv('../../data/RAW_recipes.csv')\n",
    "\n",
    "# Drop rows that are blank\n",
    "recipes['steps'].replace('', np.nan, inplace=True)\n",
    "recipes.dropna(subset=['steps'], inplace=True)\n",
    "\n",
    "# Keep rows that have string length >= 10\n",
    "recipes = recipes[recipes['steps'].str.split().str.len().ge(10)]\n",
    "\n",
    "# Reset the index sinces rows have been dropped\n",
    "recipes = recipes.reset_index(drop=True)\n",
    "\n",
    "# We only need the 'id' column\n",
    "recipes= recipes[['id']]"
   ]
  },
  {
   "cell_type": "code",
   "execution_count": 5,
   "id": "9d534371",
   "metadata": {},
   "outputs": [
    {
     "name": "stdout",
     "output_type": "stream",
     "text": [
      "            id  Topic 1  Topic 2  Topic 3  Topic 4  Topic 5  Topic 6  Topic 7  \\\n",
      "0       137739      0.0      0.0      0.0      0.0      0.0      0.0      0.0   \n",
      "1        31490      0.0      0.0      0.0      0.0      0.0      0.0      0.0   \n",
      "2       112140      0.0      0.0      0.0      0.0      0.0      0.0      0.0   \n",
      "3        59389      0.0      0.0      0.0      0.0      0.0      0.0      0.0   \n",
      "4        44061      0.0      0.0      0.0      0.0      0.0      0.0      0.0   \n",
      "...        ...      ...      ...      ...      ...      ...      ...      ...   \n",
      "229732  188810      0.0      0.0      0.0      0.0      0.0      0.0      0.0   \n",
      "229733  486161      0.0      0.0      0.0      0.0      0.0      0.0      0.0   \n",
      "229734  308080      0.0      0.0      0.0      0.0      0.0      0.0      0.0   \n",
      "229735  298512      0.0      0.0      0.0      0.0      0.0      0.0      0.0   \n",
      "229736  298509      0.0      0.0      0.0      0.0      0.0      0.0      0.0   \n",
      "\n",
      "        Topic 8  Topic 9  Topic 10  Topic 11  Topic 12  Topic 13  Topic 14  \\\n",
      "0           0.0      0.0       0.0       0.0       0.0       0.0       0.0   \n",
      "1           0.0      0.0       0.0       0.0       0.0       0.0       0.0   \n",
      "2           0.0      0.0       0.0       0.0       0.0       0.0       0.0   \n",
      "3           0.0      0.0       0.0       0.0       0.0       0.0       0.0   \n",
      "4           0.0      0.0       0.0       0.0       0.0       0.0       0.0   \n",
      "...         ...      ...       ...       ...       ...       ...       ...   \n",
      "229732      0.0      0.0       0.0       0.0       0.0       0.0       0.0   \n",
      "229733      0.0      0.0       0.0       0.0       0.0       0.0       0.0   \n",
      "229734      0.0      0.0       0.0       0.0       0.0       0.0       0.0   \n",
      "229735      0.0      0.0       0.0       0.0       0.0       0.0       0.0   \n",
      "229736      0.0      0.0       0.0       0.0       0.0       0.0       0.0   \n",
      "\n",
      "        Topic 15  \n",
      "0            0.0  \n",
      "1            0.0  \n",
      "2            0.0  \n",
      "3            0.0  \n",
      "4            0.0  \n",
      "...          ...  \n",
      "229732       0.0  \n",
      "229733       0.0  \n",
      "229734       0.0  \n",
      "229735       0.0  \n",
      "229736       0.0  \n",
      "\n",
      "[229737 rows x 16 columns]\n"
     ]
    }
   ],
   "source": [
    "# Add columns for all the topics and initialise each recipe's distribution with 0.0\n",
    "for i in range (1,16):\n",
    "    recipes['Topic {}'.format(i)] = 0\n",
    "    recipes['Topic {}'.format(i)] = recipes['Topic {}'.format(i)].astype(float)\n",
    "print (recipes)"
   ]
  },
  {
   "cell_type": "code",
   "execution_count": 6,
   "id": "be14c4d2",
   "metadata": {
    "scrolled": true
   },
   "outputs": [
    {
     "name": "stdout",
     "output_type": "stream",
     "text": [
      "            id  Topic 1  Topic 2  Topic 3  Topic 4  Topic 5  Topic 6  Topic 7  \\\n",
      "0       137739      0.0      0.0      0.0      0.0      0.2      0.1      0.0   \n",
      "1        31490      0.0      0.1      0.0      0.2      0.0      0.0      0.0   \n",
      "2       112140      0.0      0.0      0.0      0.0      0.0      0.0      0.2   \n",
      "3        59389      0.0      0.0      0.0      0.0      0.2      0.0      0.0   \n",
      "4        44061      0.0      0.0      0.0      0.0      0.0      0.2      0.0   \n",
      "...        ...      ...      ...      ...      ...      ...      ...      ...   \n",
      "229732  188810      0.0      0.0      0.0      0.0      0.1      0.0      0.2   \n",
      "229733  486161      0.0      0.0      0.0      0.1      0.0      0.0      0.0   \n",
      "229734  308080      0.0      0.0      0.2      0.0      0.0      0.0      0.0   \n",
      "229735  298512      0.0      0.3      0.0      0.4      0.0      0.1      0.0   \n",
      "229736  298509      0.0      0.4      0.0      0.6      0.0      0.0      0.0   \n",
      "\n",
      "        Topic 8  Topic 9  Topic 10  Topic 11  Topic 12  Topic 13  Topic 14  \\\n",
      "0           0.0      0.2       0.3       0.0       0.0       0.0       0.0   \n",
      "1           0.2      0.0       0.0       0.0       0.1       0.0       0.0   \n",
      "2           0.0      0.1       0.0       0.3       0.0       0.0       0.0   \n",
      "3           0.0      0.1       0.0       0.2       0.1       0.0       0.0   \n",
      "4           0.0      0.0       0.1       0.1       0.0       0.0       0.6   \n",
      "...         ...      ...       ...       ...       ...       ...       ...   \n",
      "229732      0.0      0.1       0.0       0.3       0.0       0.0       0.1   \n",
      "229733      0.0      0.4       0.0       0.6       0.0       0.0       0.0   \n",
      "229734      0.0      0.5       0.1       0.0       0.0       0.1       0.0   \n",
      "229735      0.0      0.0       0.0       0.0       0.0       0.0       0.0   \n",
      "229736      0.0      0.0       0.0       0.0       0.0       0.0       0.0   \n",
      "\n",
      "        Topic 15  \n",
      "0            0.2  \n",
      "1            0.3  \n",
      "2            0.3  \n",
      "3            0.3  \n",
      "4            0.0  \n",
      "...          ...  \n",
      "229732       0.1  \n",
      "229733       0.0  \n",
      "229734       0.0  \n",
      "229735       0.1  \n",
      "229736       0.0  \n",
      "\n",
      "[229737 rows x 16 columns]\n"
     ]
    }
   ],
   "source": [
    "# Assignment done here  \n",
    "for index,row in recipes.iterrows():\n",
    "    for item in doc_topics[index]:\n",
    "        # Probability values are rounded up to one decimal place to create larger groups of similar ranking recipes\n",
    "        recipes.at[index, 'Topic {}'.format(1+item[0])] = \"{:.1f}\".format(item[1])\n",
    "print (recipes)"
   ]
  },
  {
   "cell_type": "code",
   "execution_count": 7,
   "id": "7df4a5df",
   "metadata": {},
   "outputs": [],
   "source": [
    "recipes.to_csv('../../data/topic-model/assignments/exp4.csv')"
   ]
  },
  {
   "cell_type": "code",
   "execution_count": null,
   "id": "c1421d79",
   "metadata": {},
   "outputs": [],
   "source": []
  }
 ],
 "metadata": {
  "kernelspec": {
   "display_name": "NLP",
   "language": "python",
   "name": "nlp"
  },
  "language_info": {
   "codemirror_mode": {
    "name": "ipython",
    "version": 3
   },
   "file_extension": ".py",
   "mimetype": "text/x-python",
   "name": "python",
   "nbconvert_exporter": "python",
   "pygments_lexer": "ipython3",
   "version": "3.9.6"
  }
 },
 "nbformat": 4,
 "nbformat_minor": 5
}

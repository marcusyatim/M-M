{
 "cells": [
  {
   "cell_type": "markdown",
   "id": "c4ba90da",
   "metadata": {},
   "source": [
    "# Topic Assignment\n",
    "\n",
    "### After performing topic modeling, to then assign the derived topics to the recipes."
   ]
  },
  {
   "cell_type": "code",
   "execution_count": 2,
   "id": "3ec3ba62",
   "metadata": {},
   "outputs": [],
   "source": [
    "import pickle \n",
    "import gensim \n",
    "\n",
    "# Load LDA model\n",
    "lda = gensim.models.ldamodel.LdaModel.load('../../data/topic-model/models/exp2.model')\n",
    "\n",
    "# Load dtm\n",
    "with open('../../data/topic-model/dtms/exp2.pkl', 'rb') as f:\n",
    "    dtm = pickle.load(f)"
   ]
  },
  {
   "cell_type": "code",
   "execution_count": 3,
   "id": "a0e3372c",
   "metadata": {},
   "outputs": [],
   "source": [
    "# Define the topics\n",
    "dict = {0: 'main course, chicken', \n",
    "        1: 'oven baked, main course', \n",
    "        2: 'boiled, appetisers', \n",
    "        3: 'baking, pastry, dessert', \n",
    "        4: 'vegetables',\n",
    "        5: 'meat, pasta',\n",
    "        6: 'cheesy bread, pizza, sandwich',\n",
    "        7: 'recipe steps???',\n",
    "        8: 'salad',\n",
    "        9: 'dough, tortila, baking',\n",
    "        10: 'potato, roast',\n",
    "        11: 'blended, smoothies',\n",
    "        12: 'microwave, food to keep',\n",
    "        13: 'grilled, steaks, bbq, burger',\n",
    "        14: 'turkey, marinate, seasonal/holiday feast'\n",
    "       }"
   ]
  },
  {
   "cell_type": "code",
   "execution_count": 4,
   "id": "7399ad87",
   "metadata": {},
   "outputs": [
    {
     "name": "stdout",
     "output_type": "stream",
     "text": [
      "[(0, 0.15174824), (3, 0.44238934), (7, 0.08752911), (8, 0.022948172), (9, 0.07021977), (12, 0.178321), (13, 0.039635975)]\n",
      "3\n",
      "[(0, 0.36128208), (2, 0.0941178), (8, 0.38069454), (9, 0.027046004), (10, 0.082842894), (11, 0.04068229)]\n",
      "8\n",
      "[(6, 0.057465725), (7, 0.09792225), (10, 0.82355744)]\n",
      "10\n",
      "[(0, 0.18477668), (2, 0.08543185), (3, 0.17815134), (5, 0.023643034), (8, 0.07410119), (10, 0.074512534), (12, 0.22788757), (14, 0.14384475)]\n",
      "12\n",
      "[(2, 0.1237538), (5, 0.4293986), (7, 0.091299765), (9, 0.103342436), (12, 0.07523241), (14, 0.14696933)]\n",
      "5\n"
     ]
    }
   ],
   "source": [
    "# Note that different runs result in different but simillar results if random_state is not specified\n",
    "# Label the topics based on representing \"topic_words\"\n",
    "\n",
    "# Get the topic distribution of recipes\n",
    "doc_topics = lda.get_document_topics(dtm)\n",
    "\n",
    "from operator import itemgetter\n",
    "\n",
    "# Show the topic distributions for the first 5 recipes, \n",
    "for i in range(0, 5):\n",
    "    print(doc_topics[i])\n",
    "    print(max(doc_topics[i], key=itemgetter(1))[0])"
   ]
  },
  {
   "cell_type": "code",
   "execution_count": 6,
   "id": "9bdab0a0",
   "metadata": {},
   "outputs": [],
   "source": [
    "# Select the best topic (with highest score) for each recipe\n",
    "top_topic = [ max(t, key=itemgetter(1))[0] for t in doc_topics ]"
   ]
  },
  {
   "cell_type": "code",
   "execution_count": 8,
   "id": "6e59801f",
   "metadata": {},
   "outputs": [
    {
     "name": "stdout",
     "output_type": "stream",
     "text": [
      "['baking, pastry, dessert' 'blended, smoothies' 'boiled, appetisers'\n",
      " 'cheesy bread, pizza, sandwich' 'dough, tortila, baking'\n",
      " 'grilled, steaks, bbq, burger' 'main course, chicken' 'meat, pasta'\n",
      " 'microwave, food to keep' 'oven baked, main course' 'potato, roast'\n",
      " 'recipe steps???' 'salad' 'turkey, marinate, seasonal/holiday feast'\n",
      " 'vegetables']\n",
      "[17371  8533 22424  2574    82 27229 38086 10619  2090   518 14536  4287\n",
      "  9112 14722 59454]\n"
     ]
    }
   ],
   "source": [
    "import numpy as np\n",
    "\n",
    "topics_perDoc = [ dict[t] for t in top_topic ]\n",
    "# print (topics_perDoc)\n",
    "\n",
    "# How many recipes in each topic?\n",
    "labels, counts = np.unique(topics_perDoc, return_counts=True)\n",
    "print (labels)\n",
    "print (counts)"
   ]
  },
  {
   "cell_type": "code",
   "execution_count": null,
   "id": "e352c0ed",
   "metadata": {},
   "outputs": [],
   "source": []
  }
 ],
 "metadata": {
  "kernelspec": {
   "display_name": "NLP",
   "language": "python",
   "name": "nlp"
  },
  "language_info": {
   "codemirror_mode": {
    "name": "ipython",
    "version": 3
   },
   "file_extension": ".py",
   "mimetype": "text/x-python",
   "name": "python",
   "nbconvert_exporter": "python",
   "pygments_lexer": "ipython3",
   "version": "3.9.6"
  }
 },
 "nbformat": 4,
 "nbformat_minor": 5
}

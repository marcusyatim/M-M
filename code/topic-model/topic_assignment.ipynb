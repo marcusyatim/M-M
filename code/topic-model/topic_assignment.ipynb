{
 "cells": [
  {
   "cell_type": "markdown",
   "id": "c4ba90da",
   "metadata": {},
   "source": [
    "# Topic Assignment\n",
    "\n",
    "### After performing topic modeling, to then assign the derived topics to the recipes."
   ]
  },
  {
   "cell_type": "code",
   "execution_count": 3,
   "id": "3ec3ba62",
   "metadata": {},
   "outputs": [
    {
     "name": "stderr",
     "output_type": "stream",
     "text": [
      "C:\\Users\\marcu\\anaconda3\\envs\\nlp\\lib\\site-packages\\gensim\\similarities\\__init__.py:15: UserWarning: The gensim.similarities.levenshtein submodule is disabled, because the optional Levenshtein package <https://pypi.org/project/python-Levenshtein/> is unavailable. Install Levenhstein (e.g. `pip install python-Levenshtein`) to suppress this warning.\n",
      "  warnings.warn(msg)\n"
     ]
    }
   ],
   "source": [
    "import pickle \n",
    "import gensim \n",
    "\n",
    "# Load LDA model\n",
    "lda = gensim.models.ldamodel.LdaModel.load('../../data/topic-model/models/exp3.model')\n",
    "\n",
    "# Load dtm\n",
    "with open('../../data/topic-model/dtms/exp3.pkl', 'rb') as f:\n",
    "    dtm = pickle.load(f)"
   ]
  },
  {
   "cell_type": "code",
   "execution_count": 5,
   "id": "7399ad87",
   "metadata": {
    "scrolled": true
   },
   "outputs": [
    {
     "name": "stdout",
     "output_type": "stream",
     "text": [
      "[(1, 0.055505577), (2, 0.11433313), (4, 0.42632136), (6, 0.046435922), (7, 0.12807964), (9, 0.027334351), (10, 0.19447657)]\n",
      "4\n",
      "[(3, 0.19594498), (6, 0.11519933), (8, 0.0979492), (9, 0.13678856), (10, 0.19439372), (11, 0.093247175), (13, 0.15435523)]\n",
      "3\n",
      "[(6, 0.039161377), (9, 0.035026267), (11, 0.29608616), (12, 0.43405062), (14, 0.17606603)]\n",
      "12\n",
      "[(0, 0.15840411), (1, 0.036381595), (3, 0.12443171), (4, 0.14430963), (6, 0.0129188495), (7, 0.25048813), (10, 0.16678374), (12, 0.09779591)]\n",
      "7\n",
      "[(0, 0.0643072), (1, 0.09224159), (2, 0.36913174), (5, 0.17262621), (12, 0.26835734)]\n",
      "2\n"
     ]
    }
   ],
   "source": [
    "# Note that different runs result in different but simillar results if random_state is not specified\n",
    "# Label the topics based on representing \"topic_words\"\n",
    "\n",
    "# Get the topic distribution of recipes\n",
    "doc_topics = lda.get_document_topics(dtm)\n",
    "\n",
    "from operator import itemgetter\n",
    "\n",
    "# Show the topic distributions for the first 5 recipes, \n",
    "for i in range(0, 5):\n",
    "    print (doc_topics[i])\n",
    "    print(max(doc_topics[i], key=itemgetter(1))[0])"
   ]
  },
  {
   "cell_type": "code",
   "execution_count": 16,
   "id": "f8184135",
   "metadata": {},
   "outputs": [],
   "source": [
    "import pandas as pd\n",
    "\n",
    "recipes = pd.read_csv('../../data/RAW_recipes.csv', usecols=['id'])\n",
    "for i in range (1,16):\n",
    "    recipes['Topic {}'.format(i)] = 0\n",
    "    recipes['Topic {}'.format(i)] = recipes['Topic {}'.format(i)].astype(float)"
   ]
  },
  {
   "cell_type": "code",
   "execution_count": 17,
   "id": "0e27e831",
   "metadata": {
    "scrolled": true
   },
   "outputs": [],
   "source": [
    "# Assignment done here  \n",
    "for index,row in recipes.iterrows():\n",
    "    for item in doc_topics[index]:\n",
    "        recipes.at[index, 'Topic {}'.format(1+item[0])] = item[1]"
   ]
  },
  {
   "cell_type": "code",
   "execution_count": 18,
   "id": "df0db1f6",
   "metadata": {},
   "outputs": [],
   "source": [
    "recipes.to_csv('../../data/topic-model/assignments/exp3.csv')"
   ]
  },
  {
   "cell_type": "code",
   "execution_count": null,
   "id": "f2790684",
   "metadata": {},
   "outputs": [],
   "source": []
  }
 ],
 "metadata": {
  "kernelspec": {
   "display_name": "NLP",
   "language": "python",
   "name": "nlp"
  },
  "language_info": {
   "codemirror_mode": {
    "name": "ipython",
    "version": 3
   },
   "file_extension": ".py",
   "mimetype": "text/x-python",
   "name": "python",
   "nbconvert_exporter": "python",
   "pygments_lexer": "ipython3",
   "version": "3.9.6"
  }
 },
 "nbformat": 4,
 "nbformat_minor": 5
}

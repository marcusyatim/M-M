{
 "cells": [
  {
   "cell_type": "markdown",
   "id": "c4ba90da",
   "metadata": {},
   "source": [
    "# Topic Assignment\n",
    "\n",
    "### After performing topic modeling, to then assign the derived topics to the recipes."
   ]
  },
  {
   "cell_type": "code",
   "execution_count": 1,
   "id": "3ec3ba62",
   "metadata": {},
   "outputs": [
    {
     "name": "stderr",
     "output_type": "stream",
     "text": [
      "C:\\Users\\marcu\\anaconda3\\envs\\nlp\\lib\\site-packages\\gensim\\similarities\\__init__.py:15: UserWarning: The gensim.similarities.levenshtein submodule is disabled, because the optional Levenshtein package <https://pypi.org/project/python-Levenshtein/> is unavailable. Install Levenhstein (e.g. `pip install python-Levenshtein`) to suppress this warning.\n",
      "  warnings.warn(msg)\n"
     ]
    }
   ],
   "source": [
    "import pickle \n",
    "import gensim \n",
    "\n",
    "# Load LDA model\n",
    "lda = gensim.models.ldamodel.LdaModel.load('../../data/topic-model/models/exp3.model')\n",
    "\n",
    "# Load dtm\n",
    "with open('../../data/topic-model/dtms/exp3.pkl', 'rb') as f:\n",
    "    dtm = pickle.load(f)"
   ]
  },
  {
   "cell_type": "code",
   "execution_count": 2,
   "id": "7399ad87",
   "metadata": {
    "scrolled": true
   },
   "outputs": [
    {
     "name": "stdout",
     "output_type": "stream",
     "text": [
      "[(1, 0.055503868), (2, 0.114335574), (4, 0.42633474), (6, 0.046435382), (7, 0.12804958), (9, 0.027349237), (10, 0.19447814)]\n",
      "4\n",
      "[(3, 0.1959666), (6, 0.11519146), (8, 0.09794666), (9, 0.13676548), (10, 0.19440584), (11, 0.09324747), (13, 0.15435462)]\n",
      "3\n",
      "[(6, 0.039156828), (9, 0.035005394), (11, 0.2961049), (12, 0.43406478), (14, 0.17605864)]\n",
      "12\n",
      "[(0, 0.1583798), (1, 0.036472406), (3, 0.1239016), (4, 0.1442745), (6, 0.018199837), (7, 0.24843436), (10, 0.16615835), (12, 0.09569289)]\n",
      "7\n",
      "[(0, 0.0643106), (1, 0.09224723), (2, 0.36912972), (5, 0.172626), (12, 0.2683505)]\n",
      "2\n"
     ]
    }
   ],
   "source": [
    "# Note that different runs result in different but simillar results if random_state is not specified\n",
    "# Label the topics based on representing \"topic_words\"\n",
    "\n",
    "# Get the topic distribution of recipes\n",
    "doc_topics = lda.get_document_topics(dtm)\n",
    "\n",
    "from operator import itemgetter\n",
    "\n",
    "# Show the topic distributions for the first 5 recipes, \n",
    "for i in range(0, 5):\n",
    "    print (doc_topics[i])\n",
    "    print(max(doc_topics[i], key=itemgetter(1))[0])"
   ]
  },
  {
   "cell_type": "code",
   "execution_count": 3,
   "id": "8d7f3981",
   "metadata": {},
   "outputs": [],
   "source": [
    "import pandas as pd\n",
    "\n",
    "recipes = pd.read_csv('../../data/RAW_recipes.csv', usecols=['id'])\n",
    "for i in range (1,16):\n",
    "    recipes['Topic {}'.format(i)] = 0\n",
    "    recipes['Topic {}'.format(i)] = recipes['Topic {}'.format(i)].astype(float)"
   ]
  },
  {
   "cell_type": "code",
   "execution_count": 7,
   "id": "be14c4d2",
   "metadata": {
    "scrolled": true
   },
   "outputs": [],
   "source": [
    "# Assignment done here  \n",
    "for index,row in recipes.iterrows():\n",
    "    for item in doc_topics[index]:\n",
    "        \n",
    "        # Probability values are rounded up to one decimal place to create larger groups of similar ranking recipes\n",
    "        recipes.at[index, 'Topic {}'.format(1+item[0])] = \"{:.1f}\".format(item[1])"
   ]
  },
  {
   "cell_type": "code",
   "execution_count": 8,
   "id": "bbf70954",
   "metadata": {},
   "outputs": [
    {
     "name": "stdout",
     "output_type": "stream",
     "text": [
      "            id  Topic 1  Topic 2  Topic 3  Topic 4  Topic 5  Topic 6  Topic 7  \\\n",
      "0       137739      0.0      0.1      0.1      0.0      0.4      0.0      0.0   \n",
      "1        31490      0.0      0.0      0.0      0.2      0.0      0.0      0.1   \n",
      "2       112140      0.0      0.0      0.0      0.0      0.0      0.0      0.0   \n",
      "3        59389      0.2      0.0      0.0      0.1      0.1      0.0      0.0   \n",
      "4        44061      0.1      0.1      0.4      0.0      0.0      0.2      0.0   \n",
      "...        ...      ...      ...      ...      ...      ...      ...      ...   \n",
      "231632  486161      0.5      0.0      0.0      0.0      0.0      0.0      0.0   \n",
      "231633  493372      0.0      0.6      0.0      0.0      0.0      0.0      0.0   \n",
      "231634  308080      0.1      0.0      0.0      0.1      0.2      0.0      0.0   \n",
      "231635  298512      0.0      0.0      0.0      0.1      0.0      0.0      0.0   \n",
      "231636  298509      0.0      0.0      0.1      0.0      0.0      0.0      0.0   \n",
      "\n",
      "        Topic 8  Topic 9  Topic 10  Topic 11  Topic 12  Topic 13  Topic 14  \\\n",
      "0           0.1      0.0       0.0       0.2       0.0       0.0       0.0   \n",
      "1           0.0      0.1       0.1       0.2       0.1       0.0       0.2   \n",
      "2           0.0      0.0       0.0       0.0       0.3       0.4       0.0   \n",
      "3           0.3      0.0       0.0       0.2       0.0       0.1       0.0   \n",
      "4           0.0      0.0       0.0       0.0       0.0       0.3       0.0   \n",
      "...         ...      ...       ...       ...       ...       ...       ...   \n",
      "231632      0.0      0.0       0.0       0.0       0.0       0.0       0.0   \n",
      "231633      0.0      0.0       0.2       0.0       0.0       0.0       0.0   \n",
      "231634      0.0      0.0       0.0       0.0       0.0       0.3       0.1   \n",
      "231635      0.0      0.6       0.0       0.1       0.0       0.1       0.0   \n",
      "231636      0.0      0.4       0.5       0.0       0.0       0.0       0.0   \n",
      "\n",
      "        Topic 15  \n",
      "0            0.0  \n",
      "1            0.0  \n",
      "2            0.2  \n",
      "3            0.0  \n",
      "4            0.0  \n",
      "...          ...  \n",
      "231632       0.4  \n",
      "231633       0.0  \n",
      "231634       0.2  \n",
      "231635       0.0  \n",
      "231636       0.0  \n",
      "\n",
      "[231637 rows x 16 columns]\n"
     ]
    }
   ],
   "source": [
    "print (recipes)"
   ]
  },
  {
   "cell_type": "code",
   "execution_count": 9,
   "id": "7df4a5df",
   "metadata": {},
   "outputs": [],
   "source": [
    "recipes.to_csv('../../data/topic-model/assignments/exp3.csv')"
   ]
  },
  {
   "cell_type": "code",
   "execution_count": null,
   "id": "c1421d79",
   "metadata": {},
   "outputs": [],
   "source": []
  }
 ],
 "metadata": {
  "kernelspec": {
   "display_name": "NLP",
   "language": "python",
   "name": "nlp"
  },
  "language_info": {
   "codemirror_mode": {
    "name": "ipython",
    "version": 3
   },
   "file_extension": ".py",
   "mimetype": "text/x-python",
   "name": "python",
   "nbconvert_exporter": "python",
   "pygments_lexer": "ipython3",
   "version": "3.9.6"
  }
 },
 "nbformat": 4,
 "nbformat_minor": 5
}

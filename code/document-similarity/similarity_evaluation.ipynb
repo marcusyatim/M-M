{
 "cells": [
  {
   "cell_type": "markdown",
   "metadata": {},
   "source": [
    "# Similarity Evaluation\n",
    "### To measure the Word Mover's Distance value between a sample target recipe with the model's output to evaluate their similarity."
   ]
  },
  {
   "cell_type": "code",
   "execution_count": 2,
   "metadata": {},
   "outputs": [
    {
     "name": "stderr",
     "output_type": "stream",
     "text": [
      "C:\\Users\\marcu\\anaconda3\\envs\\nlp\\lib\\site-packages\\gensim\\utils.py:1212: UserWarning: detected Windows; aliasing chunkize to chunkize_serial\n",
      "  warnings.warn(\"detected Windows; aliasing chunkize to chunkize_serial\")\n"
     ]
    }
   ],
   "source": [
    "import gensim.downloader as api\n",
    "import nltk\n",
    "import requests\n",
    "\n",
    "from bs4 import BeautifulSoup\n",
    "from gensim.models import Word2Vec\n",
    "from nltk.corpus import stopwords"
   ]
  },
  {
   "cell_type": "markdown",
   "metadata": {},
   "source": [
    "We will use the word vectors that are pre-trained and available from google. https://code.google.com/archive/p/word2vec/ They are hosted in gensim. These are from part of Google News dataset (about 100 billion words) with 300-dimensional vectors for 3 million words and phrases."
   ]
  },
  {
   "cell_type": "code",
   "execution_count": 3,
   "metadata": {},
   "outputs": [],
   "source": [
    "# Load the model\n",
    "model = api.load('word2vec-google-news-300')"
   ]
  },
  {
   "cell_type": "markdown",
   "metadata": {},
   "source": [
    "Create a couple of helper functions"
   ]
  },
  {
   "cell_type": "code",
   "execution_count": 4,
   "metadata": {},
   "outputs": [],
   "source": [
    "def webscrapping(url):\n",
    "    '''\n",
    "    This function performs web scraping on a foodnetwork.com recipe.\n",
    "    Returns the recipe information as a list.\n",
    "    '''\n",
    "    page = requests.get(url)\n",
    "    soup = BeautifulSoup(page.content, \"html.parser\")\n",
    "    results = soup.find_all('li', attrs={'class': 'o-Method__m-Step'})\n",
    "    recipe_info = []\n",
    "    for result in results:\n",
    "      recipe_info.append(result.text.strip())\n",
    "\n",
    "    return recipe_info"
   ]
  },
  {
   "cell_type": "code",
   "execution_count": 5,
   "metadata": {},
   "outputs": [],
   "source": [
    "def preprocess(list):\n",
    "    '''\n",
    "    This function takes in a list of strings (string length can vary and can be > 1)\n",
    "    and tokenises each string in the list. As well as filtering out the tokens based on stopwords, punctuation and numbers.\n",
    "    Each token is then added to the token_list and the latter is returned.\n",
    "    '''\n",
    "    mystopwords = stopwords.words(\"english\")\n",
    "    WNlemma = nltk.WordNetLemmatizer()\n",
    "    tokens_list = []\n",
    "    for item in list:\n",
    "        tokens = nltk.word_tokenize(item)\n",
    "        tokens = [ t for t in tokens if t.isalpha() ]   # Remove numbers and punctuation.\n",
    "        tokens = [ WNlemma.lemmatize(t.lower()) for t in tokens ]\n",
    "        tokens = [ t for t in tokens if not t in mystopwords ]\n",
    "        tokens = [ t for t in tokens if len(t) >= 3 ]\n",
    "        for token in tokens:\n",
    "            tokens_list.append(token)\n",
    "    \n",
    "    return tokens_list"
   ]
  },
  {
   "cell_type": "markdown",
   "metadata": {},
   "source": [
    "Evaluate results from actual top 5 similar recipes output from the model.\n",
    "![2021-09-24 21_49_55-Window](https://user-images.githubusercontent.com/19281828/134685571-b73ad552-98f0-463a-a572-8b777918eeb3.png)"
   ]
  },
  {
   "cell_type": "code",
   "execution_count": 6,
   "metadata": {},
   "outputs": [],
   "source": [
    "# Perform web scrapping of the target url\n",
    "target = webscrapping(\"https://www.foodnetwork.com/recipes/oven-baked-salmon-recipe-1911951\")\n",
    "\n",
    "# Preprocess the target recipe info\n",
    "preprocessed_target = preprocess(target)"
   ]
  },
  {
   "cell_type": "code",
   "execution_count": 7,
   "metadata": {},
   "outputs": [],
   "source": [
    "# Manually extract the recipe steps of the results from the dataset for simplicity sake\n",
    "result1 = ['preheat oven to 400f', 'place the fish on a baking sheet', 'rub both sides of fish with olive oil and sprinkle with salt and pepper', 'roast for about 25 minutes , until the fish is firm and fully cooked', 'allow to cool at room temperature for about 30 minutes', 'remove and discard the skin and bones', 'when the fish is cool , flake the flesh into a bowl in large pieces', 'add the celery , red onion , fennel , dill , lemon juice , vinegar , capers , mayonnaise , 1 teaspoons salt , and 1 / 2 teaspoons pepper', 'mix gently and refrigerate for at about 30 minutes', 'taste for seasoning and serve at room temperature', 'enjoy !']\n",
    "result2 = ['preheat oven to 350f', 'spread bread cubes on baking sheet', 'bake 15-20 minutes , or until golden brown', 'in small saucepan , heat oil over med-low heat', 'add garlic and cook 2 minutes , or until fragrant', 'place all remaining ingredients in a large serving bowl', 'add the cooked olive oil and garlic', 'toss to coat', 'season to taste with salt and pepper', 'allow to stand at least 20 minutes , to allow the flavors to develop', 'adjust seasonings , if necessary , and serve']\n",
    "result3 = ['to toast walnuts: place in baking pan and bake in a 350 degree oven until golden , about 10 minutes', 'pour 1 tablespoon olive oil into a 12- by 15-inch baking pan', 'add asparagus , sprinkle with salt , and mix to coat', 'spread in a single layer and bake in a 400 degree oven , stirring often , until tender when pierced , 15 to 20 minutes', 'let cool about 15 minutes', 'meanwhile , in a large bowl , mix vinegar and remaining 2 tablespoons oil', 'add spinach , strawberries , toasted walnuts , and cooled asparagus', 'mix to coat', 'add more salt and pepper to taste', 'enjoy']\n",
    "result4 = ['heat oven to 400 degrees', 'line a baking sheet with foil', 'brush with olive oil', 'season both sides of the salmon filets with salt and pepper', 'bake until salmon flakes easily , about 20 - 25 minutes', 'meanwhile in a heavy saucepan , simmer shallots , vinegar and wine until shallots are soft and very little liquid remains', 'add the butter and 2 tablespoons water , whisking constantly over high heat until the butter is melted and incorporated', 'stir in the parsley , capers and lemon zest', 'serve over the salmon']\n",
    "result5 = ['preheat oven to 350 degrees', 'place bread cubes on baking sheet and toast until crisp', 'meanwhile , in a large bowl , toss together tomatoes , peppers , cucumber , garlic , capers , parsley and basil', 'drizzle in the vinegars , oil and season with salt and pepper', 'toss again', 'let sit for 15 to 20 minutes in the refrigerator', 'when ready to serve , toss together with the toasted bread cubes', 'gently fold in goat or feta cheese , avocado and adjust seasoning , if necessary', 'serve']\n",
    "\n",
    "# Preprocess the result recipe info\n",
    "preprocessed_result1 = preprocess(result1)\n",
    "preprocessed_result2 = preprocess(result2)\n",
    "preprocessed_result3 = preprocess(result3)\n",
    "preprocessed_result4 = preprocess(result4)\n",
    "preprocessed_result5 = preprocess(result5)"
   ]
  },
  {
   "cell_type": "code",
   "execution_count": 10,
   "metadata": {},
   "outputs": [
    {
     "name": "stdout",
     "output_type": "stream",
     "text": [
      "distance 1 = 2.1079\n",
      "distance 2 = 2.0876\n",
      "distance 3 = 2.1179\n",
      "distance 4 = 2.0636\n",
      "distance 5 = 2.0868\n"
     ]
    }
   ],
   "source": [
    "distance1 = model.wmdistance(preprocessed_target, preprocessed_result1)\n",
    "print('distance 1 = %.4f' % distance1)\n",
    "distance2 = model.wmdistance(preprocessed_target, preprocessed_result2)\n",
    "print('distance 2 = %.4f' % distance2)\n",
    "distance3 = model.wmdistance(preprocessed_target, preprocessed_result3)\n",
    "print('distance 3 = %.4f' % distance3)\n",
    "distance4 = model.wmdistance(preprocessed_target, preprocessed_result4)\n",
    "print('distance 4 = %.4f' % distance4)\n",
    "distance5 = model.wmdistance(preprocessed_target, preprocessed_result5)\n",
    "print('distance 5 = %.4f' % distance5)"
   ]
  },
  {
   "cell_type": "code",
   "execution_count": null,
   "metadata": {},
   "outputs": [],
   "source": []
  }
 ],
 "metadata": {
  "kernelspec": {
   "display_name": "NLP",
   "language": "python",
   "name": "nlp"
  },
  "language_info": {
   "codemirror_mode": {
    "name": "ipython",
    "version": 3
   },
   "file_extension": ".py",
   "mimetype": "text/x-python",
   "name": "python",
   "nbconvert_exporter": "python",
   "pygments_lexer": "ipython3",
   "version": "3.9.6"
  }
 },
 "nbformat": 4,
 "nbformat_minor": 4
}

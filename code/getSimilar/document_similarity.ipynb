{
 "cells": [
  {
   "cell_type": "markdown",
   "id": "944ca505",
   "metadata": {},
   "source": [
    "# Document Similarity\n",
    "### To obtain the Word Mover's Distance model on the 'steps' column of the RAW_recipes.csv"
   ]
  },
  {
   "cell_type": "code",
   "execution_count": 1,
   "id": "df6e3b8f",
   "metadata": {},
   "outputs": [
    {
     "name": "stderr",
     "output_type": "stream",
     "text": [
      "C:\\Users\\marcu\\anaconda3\\envs\\nlp\\lib\\site-packages\\gensim\\utils.py:1212: UserWarning: detected Windows; aliasing chunkize to chunkize_serial\n",
      "  warnings.warn(\"detected Windows; aliasing chunkize to chunkize_serial\")\n"
     ]
    }
   ],
   "source": [
    "import gensim\n",
    "import nltk\n",
    "import numpy as np\n",
    "import pandas as pd\n",
    "\n",
    "from gensim.models import Word2Vec\n",
    "from gensim.similarities import WmdSimilarity\n",
    "from nltk.corpus import stopwords"
   ]
  },
  {
   "cell_type": "code",
   "execution_count": 2,
   "id": "39ffc047",
   "metadata": {
    "scrolled": true
   },
   "outputs": [
    {
     "name": "stdout",
     "output_type": "stream",
     "text": [
      "                                                    steps\n",
      "0       ['make a choice and proceed with recipe', 'dep...\n",
      "1       ['preheat oven to 425 degrees f', 'press dough...\n",
      "2       ['brown ground beef in large pot', 'add choppe...\n",
      "3       ['place potatoes in a large pot of lightly sal...\n",
      "4       ['mix all ingredients& boil for 2 1 / 2 hours ...\n",
      "...                                                   ...\n",
      "231632  ['heat oil in a 4-quart dutch oven', 'add cele...\n",
      "231633        ['mix all ingredients together thoroughly']\n",
      "231634  ['in a bowl , combine the mashed yolks and may...\n",
      "231635  ['place melted butter in a large mixing bowl a...\n",
      "231636  ['whip sugar and shortening in a large bowl , ...\n",
      "\n",
      "[231637 rows x 1 columns]\n"
     ]
    }
   ],
   "source": [
    "recipes = pd.read_csv('../../data/RAW_recipes.csv', usecols=['steps'])\n",
    "print (recipes)"
   ]
  },
  {
   "cell_type": "markdown",
   "id": "578e597b",
   "metadata": {},
   "source": [
    "### Preprocessing"
   ]
  },
  {
   "cell_type": "code",
   "execution_count": 3,
   "id": "f51db2f7",
   "metadata": {},
   "outputs": [
    {
     "name": "stdout",
     "output_type": "stream",
     "text": [
      "                                                    steps\n",
      "0       ['make a choice and proceed with recipe', 'dep...\n",
      "1       ['preheat oven to 425 degrees f', 'press dough...\n",
      "2       ['brown ground beef in large pot', 'add choppe...\n",
      "3       ['place potatoes in a large pot of lightly sal...\n",
      "4       ['mix all ingredients& boil for 2 1 / 2 hours ...\n",
      "...                                                   ...\n",
      "231631  ['bring 3 quarts salted to water to a boil', '...\n",
      "231632  ['heat oil in a 4-quart dutch oven', 'add cele...\n",
      "231634  ['in a bowl , combine the mashed yolks and may...\n",
      "231635  ['place melted butter in a large mixing bowl a...\n",
      "231636  ['whip sugar and shortening in a large bowl , ...\n",
      "\n",
      "[229737 rows x 1 columns]\n"
     ]
    }
   ],
   "source": [
    "# Drop rows that are NaN\n",
    "recipes.dropna(subset=['steps'], inplace=True)\n",
    "\n",
    "# Keep rows that have string length >= 10\n",
    "recipes = recipes[recipes['steps'].str.split().str.len().ge(10)]\n",
    "print (recipes)"
   ]
  },
  {
   "cell_type": "code",
   "execution_count": 11,
   "id": "b3890a2c",
   "metadata": {},
   "outputs": [],
   "source": [
    "mystopwords = stopwords.words(\"english\")\n",
    "WNlemma = nltk.WordNetLemmatizer()\n",
    "\n",
    "'''\n",
    "- text = text.replace(\"'\",\"\") is used before the tokenisation to remove \"'\" because the tokenisation itself cannot separate\n",
    "  that properly and if not it appears at the front of every sentence.\n",
    "'''\n",
    "def preprocess(text):\n",
    "    text = text.replace(\"'\",\"\")\n",
    "    tokens = nltk.word_tokenize(text)\n",
    "    tokens = [ t for t in tokens if t.isalpha() ]  # Remove numbers and punctuation.\n",
    "    tokens = [ WNlemma.lemmatize(t.lower()) for t in tokens ]\n",
    "    tokens = [ t for t in tokens if not t in mystopwords ]\n",
    "    tokens = [ t for t in tokens if len(t) >= 3 ]\n",
    "    \n",
    "    return tokens"
   ]
  },
  {
   "cell_type": "markdown",
   "id": "b81aadc9",
   "metadata": {},
   "source": [
    "### Perform Document Similarity"
   ]
  },
  {
   "cell_type": "code",
   "execution_count": 13,
   "id": "f76d6809",
   "metadata": {},
   "outputs": [],
   "source": [
    "# Use all recipes to create the word2vec corpus and the WMD corpus\n",
    "recipes = recipes['steps']\n",
    "w2v_corpus = []   \n",
    "wmd_corpus = []\n",
    "for text in recipes:\n",
    "    w2v_corpus.append(preprocess(text))\n",
    "    wmd_corpus.append(preprocess(text))    "
   ]
  },
  {
   "cell_type": "code",
   "execution_count": null,
   "id": "fe2b80ba",
   "metadata": {},
   "outputs": [
    {
     "name": "stderr",
     "output_type": "stream",
     "text": [
      "C:\\Users\\marcu\\anaconda3\\envs\\nlp\\lib\\site-packages\\gensim\\models\\base_any2vec.py:742: UserWarning: C extension not loaded, training will be slow. Install a C compiler and reinstall gensim for fast training.\n",
      "  warnings.warn(\n"
     ]
    }
   ],
   "source": [
    "# Train Word2Vec model\n",
    "w2v_model = Word2Vec(w2v_corpus, workers=4, size=100, min_count=1)"
   ]
  },
  {
   "cell_type": "code",
   "execution_count": null,
   "id": "c10ff49e",
   "metadata": {},
   "outputs": [],
   "source": [
    "# Train WMDSimilarity model\n",
    "# The top 5 documents are retrieved\n",
    "num_best = 5\n",
    "wmd_model = WmdSimilarity(wmd_corpus, w2v_model, num_best=5)"
   ]
  },
  {
   "cell_type": "code",
   "execution_count": null,
   "id": "849d681a",
   "metadata": {},
   "outputs": [],
   "source": [
    "# Save WMD model\n",
    "wmd_model.save('../../data/getSimilar/wmd.model')"
   ]
  },
  {
   "cell_type": "code",
   "execution_count": null,
   "id": "7c8f0771",
   "metadata": {},
   "outputs": [],
   "source": []
  }
 ],
 "metadata": {
  "kernelspec": {
   "display_name": "NLP",
   "language": "python",
   "name": "nlp"
  },
  "language_info": {
   "codemirror_mode": {
    "name": "ipython",
    "version": 3
   },
   "file_extension": ".py",
   "mimetype": "text/x-python",
   "name": "python",
   "nbconvert_exporter": "python",
   "pygments_lexer": "ipython3",
   "version": "3.9.6"
  }
 },
 "nbformat": 4,
 "nbformat_minor": 5
}
